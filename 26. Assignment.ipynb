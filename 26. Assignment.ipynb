{
 "cells": [
  {
   "cell_type": "markdown",
   "id": "a5abb58d-29db-4f9c-bd8d-cc3bd24687b0",
   "metadata": {},
   "source": [
    "Q1. Explain Class and Object with respect to Object-Oriented Programming. Give a suitable example."
   ]
  },
  {
   "cell_type": "code",
   "execution_count": 2,
   "id": "8429041d-3643-4a10-b25a-4ff765619ebc",
   "metadata": {},
   "outputs": [],
   "source": [
    "#Class: A class in Object-Oriented Programming (OOP) is a blueprint or template that defines the properties (attributes) and behaviors (methods) that objects created from the class will have. It serves as a way to encapsulate data and functions that operate on the data into a single unit. Classes define the structure and capabilities of objects but do not represent any specific instance.\n",
    "\n",
    "# Object: An object is an instance of a class. When a class is defined, no memory is allocated until an object of that class is created. Objects represent specific instances of classes and can have unique values for the attributes defined by the class. Each object can access the methods of its class to perform operations.\n",
    "\n",
    "class Book:\n",
    "    def __init__(self, title, author, year):\n",
    "        self.title = title\n",
    "        self.author = author\n",
    "        self.year = year\n",
    "\n",
    "    def display_info(self):\n",
    "        print(f\"Title: {self.title}, Author: {self.author}, Year: {self.year}\")"
   ]
  },
  {
   "cell_type": "code",
   "execution_count": 3,
   "id": "485d194b-e93e-42cf-b8a9-06cfb581483c",
   "metadata": {},
   "outputs": [
    {
     "name": "stdout",
     "output_type": "stream",
     "text": [
      "Title: 1984, Author: George Orwell, Year: 1949\n",
      "Title: To Kill a Mockingbird, Author: Harper Lee, Year: 1960\n"
     ]
    }
   ],
   "source": [
    "book1 = Book(\"1984\", \"George Orwell\", 1949)\n",
    "book2 = Book(\"To Kill a Mockingbird\", \"Harper Lee\", 1960)\n",
    "\n",
    "book1.display_info() \n",
    "book2.display_info()  "
   ]
  },
  {
   "cell_type": "markdown",
   "id": "58a029f3-63df-4035-a253-54a563826424",
   "metadata": {},
   "source": [
    "Q2. Name the four pillars of OOPs."
   ]
  },
  {
   "cell_type": "markdown",
   "id": "839672d9-bd1b-4c42-bfb3-8abea537e57a",
   "metadata": {},
   "source": [
    "1. Encapsulation\n",
    "2. Abstraction\n",
    "3. Inheritance\n",
    "4. Polymorphism"
   ]
  },
  {
   "cell_type": "markdown",
   "id": "86b7a500-3841-4b95-8af3-a22cf19a0d09",
   "metadata": {},
   "source": [
    "Q3. Explain why the __init__() function is used. Give a suitable example."
   ]
  },
  {
   "cell_type": "code",
   "execution_count": 4,
   "id": "2f44bc4a-4070-4c3f-9374-3a7be8350f01",
   "metadata": {},
   "outputs": [
    {
     "name": "stdout",
     "output_type": "stream",
     "text": [
      "Hello, my name is Alice and I am 30 years old.\n"
     ]
    }
   ],
   "source": [
    "# The __init__() function in Python is a special method used to initialize an object’s attributes when the object is created. It is often referred to as the constructor method in Python because it is called automatically when a new instance of a class is created. The primary purpose of __init__() is to ensure that the object starts with a well-defined state by setting initial values for its attributes.\n",
    "\n",
    "class Person:\n",
    "    def __init__(self, name, age):\n",
    "        self.name = name  # Initializing the 'name' attribute\n",
    "        self.age = age    # Initializing the 'age' attribute\n",
    "\n",
    "    def greet(self):\n",
    "        print(f\"Hello, my name is {self.name} and I am {self.age} years old.\")\n",
    "        \n",
    "person1 = Person(\"Alice\", 30)\n",
    "\n",
    "person1.greet() "
   ]
  },
  {
   "cell_type": "markdown",
   "id": "8330140e-b069-4466-b73e-67440a0e438a",
   "metadata": {},
   "source": [
    "Q4. Why self is used in OOPs?"
   ]
  },
  {
   "cell_type": "markdown",
   "id": "0d615549-3f33-4011-87ba-9087171bac51",
   "metadata": {},
   "source": [
    "In Python's Object-Oriented Programming (OOP), self is a reference to the current instance of the class. It is used to access variables that belong to the class and to call other methods within the same class. Although self is not a keyword in Python, it is a strong convention that is universally followed to make the code more readable and understandable."
   ]
  },
  {
   "cell_type": "markdown",
   "id": "9d32405a-f30e-4c69-b21d-9e4ff799d38b",
   "metadata": {},
   "source": [
    "Q5. What is inheritance? Give an example for each type of inheritance."
   ]
  },
  {
   "cell_type": "code",
   "execution_count": 5,
   "id": "12f3bbb1-c1ab-4de6-b6b0-c0ba8a018d36",
   "metadata": {},
   "outputs": [
    {
     "name": "stdout",
     "output_type": "stream",
     "text": [
      "Flying\n",
      "Swimming\n",
      "Quack!\n"
     ]
    }
   ],
   "source": [
    "# Inheritance is a fundamental concept in Object-Oriented Programming (OOP) that allows a new class (called a derived or child class) to inherit attributes and methods from an existing class (called a base or parent class). This promotes code reuse, as the child class can use the existing functionality of the parent class and also extend or override it.\n",
    "\n",
    "class Flyer:\n",
    "    def fly(self):\n",
    "        return \"Flying\"\n",
    "\n",
    "class Swimmer:\n",
    "    def swim(self):\n",
    "        return \"Swimming\"\n",
    "\n",
    "class Duck(Flyer, Swimmer): \n",
    "    def quack(self):\n",
    "        return \"Quack!\"\n",
    "\n",
    "duck = Duck()\n",
    "print(duck.fly())  \n",
    "print(duck.swim())\n",
    "print(duck.quack()) \n"
   ]
  },
  {
   "cell_type": "code",
   "execution_count": null,
   "id": "3e8a9490-6f7d-4ef3-9fec-85bbfc3b3f97",
   "metadata": {},
   "outputs": [],
   "source": []
  }
 ],
 "metadata": {
  "kernelspec": {
   "display_name": "Python 3 (ipykernel)",
   "language": "python",
   "name": "python3"
  },
  "language_info": {
   "codemirror_mode": {
    "name": "ipython",
    "version": 3
   },
   "file_extension": ".py",
   "mimetype": "text/x-python",
   "name": "python",
   "nbconvert_exporter": "python",
   "pygments_lexer": "ipython3",
   "version": "3.10.8"
  }
 },
 "nbformat": 4,
 "nbformat_minor": 5
}
